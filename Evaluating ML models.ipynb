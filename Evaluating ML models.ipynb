{
 "cells": [
  {
   "cell_type": "markdown",
   "metadata": {},
   "source": [
    "This code explores the E. coli dataset, defines a test harness for evaluating candidate models, and evaluates the following ML models: Random Forest, k-Nearest Neighbors, Linear Discriminant Analysis and Support Vector Machine."
   ]
  },
  {
   "cell_type": "code",
   "execution_count": 1,
   "metadata": {},
   "outputs": [],
   "source": [
    "import pandas as pd\n",
    "import numpy as np\n",
    "import seaborn as sns\n",
    "import matplotlib.pyplot as plt\n",
    "from collections import Counter"
   ]
  },
  {
   "cell_type": "code",
   "execution_count": 2,
   "metadata": {},
   "outputs": [
    {
     "name": "stdout",
     "output_type": "stream",
     "text": [
      "(327, 8)\n"
     ]
    }
   ],
   "source": [
    "#Import data\n",
    "dataset = pd.read_csv('ecoli.csv', header = None)\n",
    "print(dataset.shape)"
   ]
  },
  {
   "cell_type": "code",
   "execution_count": 3,
   "metadata": {},
   "outputs": [
    {
     "name": "stdout",
     "output_type": "stream",
     "text": [
      "             0       1        2      3        4        5        6\n",
      "count  327.000  327.00  327.000  327.0  327.000  327.000  327.000\n",
      "mean     0.494    0.50    0.485    0.5    0.499    0.497    0.503\n",
      "std      0.194    0.15    0.050    0.0    0.123    0.217    0.207\n",
      "min      0.000    0.16    0.480    0.5    0.000    0.030    0.000\n",
      "25%      0.340    0.40    0.480    0.5    0.420    0.330    0.350\n",
      "50%      0.490    0.47    0.480    0.5    0.490    0.450    0.430\n",
      "75%      0.655    0.57    0.480    0.5    0.570    0.710    0.710\n",
      "max      0.890    1.00    1.000    0.5    0.880    1.000    0.990\n"
     ]
    }
   ],
   "source": [
    "#Describe dataset\n",
    "pd.set_option('precision', 3)\n",
    "print(dataset.describe())"
   ]
  },
  {
   "cell_type": "code",
   "execution_count": 4,
   "metadata": {},
   "outputs": [
    {
     "name": "stdout",
     "output_type": "stream",
     "text": [
      "Class = cp, Count = 143, Percentage = 43.731%\n",
      "Class = im, Count = 77, Percentage = 23.547%\n",
      "Class = imU, Count = 35, Percentage = 10.703%\n",
      "Class = om, Count = 20, Percentage = 6.116%\n",
      "Class = pp, Count = 52, Percentage = 15.902%\n"
     ]
    }
   ],
   "source": [
    "#Summarize class distribution\n",
    "target = dataset.values[:, -1]\n",
    "counter = Counter(target)\n",
    "\n",
    "for protein_class, count in counter.items():\n",
    "    percentage = count / len(target) * 100\n",
    "    print('Class = %s, Count = %d, Percentage = %.3f%%' % (protein_class, count, percentage))"
   ]
  },
  {
   "cell_type": "code",
   "execution_count": 5,
   "metadata": {},
   "outputs": [
    {
     "data": {
      "image/png": "[encoded data removed]",
      "text/plain": [
       "<Figure size 432x288 with 9 Axes>"
      ]
     },
     "metadata": {
      "needs_background": "light"
     },
     "output_type": "display_data"
    }
   ],
   "source": [
    "#Create histogram plot of each variable\n",
    "dataset.hist(bins = 25)\n",
    "plt.show()"
   ]
  },
  {
   "cell_type": "code",
   "execution_count": 6,
   "metadata": {},
   "outputs": [],
   "source": [
    "#Split into features & labels\n",
    "data = dataset.values\n",
    "x, y = data[:, :-1], data[:, -1]"
   ]
  },
  {
   "cell_type": "code",
   "execution_count": 7,
   "metadata": {},
   "outputs": [
    {
     "name": "stdout",
     "output_type": "stream",
     "text": [
      "(327, 7) (327,) Counter({0: 143, 1: 77, 4: 52, 2: 35, 3: 20})\n"
     ]
    }
   ],
   "source": [
    "#Encode target labels\n",
    "from sklearn.preprocessing import LabelEncoder\n",
    "\n",
    "le = LabelEncoder()\n",
    "y = le.fit_transform(y)\n",
    "\n",
    "print(x.shape, y.shape, Counter(y))"
   ]
  },
  {
   "cell_type": "code",
   "execution_count": 8,
   "metadata": {},
   "outputs": [],
   "source": [
    "#Define reference model\n",
    "from sklearn.dummy import DummyClassifier\n",
    "\n",
    "model = DummyClassifier(strategy = 'most_frequent')"
   ]
  },
  {
   "cell_type": "code",
   "execution_count": 9,
   "metadata": {},
   "outputs": [
    {
     "name": "stdout",
     "output_type": "stream",
     "text": [
      "Baseline model: Mean accuracy 0.437 (0.003)\n"
     ]
    }
   ],
   "source": [
    "#Test baseline model\n",
    "#k-fold cross-validation procedure provides good general estimate of model performance that is not too optimistically biased\n",
    "from sklearn.model_selection import RepeatedStratifiedKFold\n",
    "from sklearn.model_selection import cross_val_score\n",
    "\n",
    "def evaluate_model(x, y, model):\n",
    "    cv = RepeatedStratifiedKFold(n_splits = 4, n_repeats = 3, random_state = 1)\n",
    "    scores = cross_val_score(model, x, y, scoring = 'accuracy', cv = cv, n_jobs = -1)\n",
    "    \n",
    "    return scores\n",
    "    \n",
    "dummy_scores = evaluate_model(x, y, model)\n",
    "print('Baseline model: Mean accuracy %.3f (%.3f)' % (np.mean(dummy_scores), np.std(dummy_scores)))"
   ]
  },
  {
   "cell_type": "code",
   "execution_count": 10,
   "metadata": {},
   "outputs": [],
   "source": [
    "#Define candidate models\n",
    "#Shortened names to be used for plotting results of model evaluation\n",
    "\n",
    "from sklearn.discriminant_analysis import LinearDiscriminantAnalysis\n",
    "from sklearn.ensemble import RandomForestClassifier\n",
    "from sklearn.svm import LinearSVC\n",
    "from sklearn.neighbors import KNeighborsClassifier\n",
    "\n",
    "def get_models():\n",
    "    models, short_names = list(), list()\n",
    "    \n",
    "    #Linear Discriminant Analysis\n",
    "    models.append(LinearDiscriminantAnalysis())\n",
    "    short_names.append('LDA')\n",
    "    \n",
    "    #Random Forest\n",
    "    models.append(RandomForestClassifier(n_estimators=1000))\n",
    "    short_names.append('RF')    \n",
    "    \n",
    "    #Support Vector Machine\n",
    "    models.append(LinearSVC())\n",
    "    short_names.append('SVM')\n",
    "    \n",
    "    #k-Nearest Neighbors\n",
    "    models.append(KNeighborsClassifier(n_neighbors=3))\n",
    "    short_names.append('KNN')\n",
    "\n",
    "    return models, short_names\n",
    "\n",
    "models, names = get_models()"
   ]
  },
  {
   "cell_type": "code",
   "execution_count": 11,
   "metadata": {},
   "outputs": [
    {
     "name": "stdout",
     "output_type": "stream",
     "text": [
      "LDA: Mean accuracy 0.881 (0.035)\n",
      "RF: Mean accuracy 0.894 (0.035)\n",
      "SVM: Mean accuracy 0.882 (0.036)\n",
      "KNN: Mean accuracy 0.864 (0.027)\n"
     ]
    }
   ],
   "source": [
    "#Evaluate candidate models\n",
    "\n",
    "results = list()\n",
    "chosen_model = \"\"\n",
    "top_score = 0\n",
    "\n",
    "for i in range(len(models)):\n",
    "    scores = evaluate_model(x, y, models[i])\n",
    "    results.append(scores)\n",
    "    \n",
    "    if np.mean(scores) > top_score:\n",
    "        top_score = np.mean(scores)\n",
    "        chosen_model = names[i]\n",
    "\n",
    "    print('%s: Mean accuracy %.3f (%.3f)' % (names[i], np.mean(scores), np.std(scores)))"
   ]
  },
  {
   "cell_type": "code",
   "execution_count": 12,
   "metadata": {},
   "outputs": [
    {
     "data": {
      "image/png": "[encoded data removed]",
      "text/plain": [
       "<Figure size 432x288 with 1 Axes>"
      ]
     },
     "metadata": {
      "needs_background": "light"
     },
     "output_type": "display_data"
    },
    {
     "name": "stdout",
     "output_type": "stream",
     "text": [
      "The best performing model was RF, with a mean accuracy of 0.894\n"
     ]
    }
   ],
   "source": [
    "#Plot results\n",
    "plt.boxplot(results, labels = names, showmeans = True)\n",
    "plt.show()\n",
    "\n",
    "print('The best performing model was %s, with a mean accuracy of %.3f' % (chosen_model, top_score))"
   ]
  },
  {
   "cell_type": "code",
   "execution_count": null,
   "metadata": {},
   "outputs": [],
   "source": []
  }
 ],
 "metadata": {
  "kernelspec": {
   "display_name": "Python 3",
   "language": "python",
   "name": "python3"
  },
  "language_info": {
   "codemirror_mode": {
    "name": "ipython",
    "version": 3
   },
   "file_extension": ".py",
   "mimetype": "text/x-python",
   "name": "python",
   "nbconvert_exporter": "python",
   "pygments_lexer": "ipython3",
   "version": "3.8.5"
  }
 },
 "nbformat": 4,
 "nbformat_minor": 4
}
