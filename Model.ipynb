{
 "cells": [
  {
   "cell_type": "markdown",
   "metadata": {},
   "source": [
    "There are 5 classes of E. coli proteins in the dataset:\n",
    "\n",
    "cp: cytoplasm;\n",
    "im: inner membrane without signal sequence;\n",
    "pp: periplasm;\n",
    "imU: inner membrane, non cleavable signal sequence;\n",
    "om: outer membrane\n",
    "\n",
    "Each example is described using seven input variables calculated from its amino acid sequence."
   ]
  },
  {
   "cell_type": "code",
   "execution_count": 1,
   "metadata": {},
   "outputs": [],
   "source": [
    "import pandas as pd\n",
    "import numpy as np\n",
    "import seaborn as sns\n",
    "import matplotlib.pyplot as plt\n",
    "from collections import Counter"
   ]
  },
  {
   "cell_type": "code",
   "execution_count": 2,
   "metadata": {},
   "outputs": [
    {
     "name": "stdout",
     "output_type": "stream",
     "text": [
      "(327, 8)\n"
     ]
    }
   ],
   "source": [
    "#Import data\n",
    "dataset = pd.read_csv('ecoli.csv', header = None)\n",
    "print(dataset.shape)"
   ]
  },
  {
   "cell_type": "code",
   "execution_count": 3,
   "metadata": {},
   "outputs": [
    {
     "name": "stdout",
     "output_type": "stream",
     "text": [
      "             0       1        2      3        4        5        6\n",
      "count  327.000  327.00  327.000  327.0  327.000  327.000  327.000\n",
      "mean     0.494    0.50    0.485    0.5    0.499    0.497    0.503\n",
      "std      0.194    0.15    0.050    0.0    0.123    0.217    0.207\n",
      "min      0.000    0.16    0.480    0.5    0.000    0.030    0.000\n",
      "25%      0.340    0.40    0.480    0.5    0.420    0.330    0.350\n",
      "50%      0.490    0.47    0.480    0.5    0.490    0.450    0.430\n",
      "75%      0.655    0.57    0.480    0.5    0.570    0.710    0.710\n",
      "max      0.890    1.00    1.000    0.5    0.880    1.000    0.990\n"
     ]
    }
   ],
   "source": [
    "#Describe dataset\n",
    "pd.set_option('precision', 3)\n",
    "print(dataset.describe())"
   ]
  },
  {
   "cell_type": "code",
   "execution_count": 4,
   "metadata": {},
   "outputs": [
    {
     "name": "stdout",
     "output_type": "stream",
     "text": [
      "Class = cp, Count = 143, Percentage = 43.731%\n",
      "Class = im, Count = 77, Percentage = 23.547%\n",
      "Class = imU, Count = 35, Percentage = 10.703%\n",
      "Class = om, Count = 20, Percentage = 6.116%\n",
      "Class = pp, Count = 52, Percentage = 15.902%\n"
     ]
    }
   ],
   "source": [
    "#Summarize class distribution\n",
    "target = dataset.values[:, -1]\n",
    "counter = Counter(target)\n",
    "\n",
    "for protein_class, count in counter.items():\n",
    "    percentage = count / len(target) * 100\n",
    "    print('Class = %s, Count = %d, Percentage = %.3f%%' % (protein_class, count, percentage))"
   ]
  },
  {
   "cell_type": "code",
   "execution_count": 5,
   "metadata": {},
   "outputs": [
    {
     "data": {
      "image/png": "[encoded data removed]",
      "text/plain": [
       "<Figure size 432x288 with 9 Axes>"
      ]
     },
     "metadata": {
      "needs_background": "light"
     },
     "output_type": "display_data"
    }
   ],
   "source": [
    "#Create histogram plot of each variable\n",
    "dataset.hist(bins=25)\n",
    "plt.show()"
   ]
  },
  {
   "cell_type": "code",
   "execution_count": 6,
   "metadata": {},
   "outputs": [],
   "source": [
    "#Split into features & labels\n",
    "data = dataset.values\n",
    "x, y = data[:, :-1], data[:, -1]"
   ]
  },
  {
   "cell_type": "code",
   "execution_count": 7,
   "metadata": {},
   "outputs": [
    {
     "name": "stdout",
     "output_type": "stream",
     "text": [
      "(327, 7) (327,) Counter({0: 143, 1: 77, 4: 52, 2: 35, 3: 20})\n"
     ]
    }
   ],
   "source": [
    "#Encode target labels\n",
    "from sklearn.preprocessing import LabelEncoder\n",
    "\n",
    "le = LabelEncoder()\n",
    "y = le.fit_transform(y)\n",
    "\n",
    "print(x.shape, y.shape, Counter(y))"
   ]
  },
  {
   "cell_type": "code",
   "execution_count": 8,
   "metadata": {},
   "outputs": [
    {
     "name": "stdout",
     "output_type": "stream",
     "text": [
      "Training Features Shape: (196, 7)\n",
      "Training Labels Shape: (196,)\n",
      "Testing Features Shape: (131, 7)\n",
      "Testing Labels Shape: (131,)\n"
     ]
    }
   ],
   "source": [
    "#Split data into training & test datasets\n",
    "from sklearn.model_selection import train_test_split\n",
    "\n",
    "x_train, x_test, y_train, y_test = train_test_split(x, y, test_size = 0.4, random_state = 0)\n",
    "\n",
    "print('Training Features Shape:', x_train.shape)\n",
    "print('Training Labels Shape:', y_train.shape)\n",
    "print('Testing Features Shape:', x_test.shape)\n",
    "print('Testing Labels Shape:', y_test.shape)"
   ]
  },
  {
   "cell_type": "code",
   "execution_count": 9,
   "metadata": {},
   "outputs": [],
   "source": [
    "#Define reference model\n",
    "from sklearn.dummy import DummyClassifier\n",
    "\n",
    "model = DummyClassifier(strategy='most_frequent')"
   ]
  },
  {
   "cell_type": "code",
   "execution_count": 10,
   "metadata": {},
   "outputs": [
    {
     "name": "stdout",
     "output_type": "stream",
     "text": [
      "Mean Accuracy: 0.429 (0.000)\n"
     ]
    }
   ],
   "source": [
    "#Test baseline model\n",
    "from sklearn.model_selection import RepeatedStratifiedKFold\n",
    "from sklearn.model_selection import cross_val_score\n",
    "\n",
    "def evaluate_model(x, y, model):\n",
    "    cv = RepeatedStratifiedKFold(n_splits = 4, n_repeats = 3, random_state = 1)\n",
    "    scores = cross_val_score(model, x, y, scoring = 'accuracy', cv = cv, n_jobs = -1)\n",
    "\n",
    "    print('Mean Accuracy: %.3f (%.3f)' % (np.mean(scores), np.std(scores)))\n",
    "    \n",
    "evaluate_model(x_train, y_train, model)"
   ]
  },
  {
   "cell_type": "code",
   "execution_count": 11,
   "metadata": {
    "collapsed": true
   },
   "outputs": [
    {
     "data": {
      "text/plain": [
       "RandomForestClassifier(n_estimators=1000)"
      ]
     },
     "execution_count": 11,
     "metadata": {},
     "output_type": "execute_result"
    }
   ],
   "source": [
    "#Optimise performance by using random forest classifier\n",
    "from sklearn.ensemble import RandomForestClassifier\n",
    "\n",
    "model = RandomForestClassifier(n_estimators=1000)\n",
    "\n",
    "#Build forest of trees from training set\n",
    "model.fit(x_train, y_train)"
   ]
  },
  {
   "cell_type": "code",
   "execution_count": 12,
   "metadata": {},
   "outputs": [
    {
     "name": "stdout",
     "output_type": "stream",
     "text": [
      "Mean Accuracy: 0.870 (0.045)\n"
     ]
    }
   ],
   "source": [
    "#Test model using test dataset\n",
    "evaluate_model(x_test, y_test, model)"
   ]
  },
  {
   "cell_type": "code",
   "execution_count": 13,
   "metadata": {},
   "outputs": [
    {
     "data": {
      "image/png": "[encoded data removed]",
      "text/plain": [
       "<Figure size 720x720 with 2 Axes>"
      ]
     },
     "metadata": {
      "needs_background": "light"
     },
     "output_type": "display_data"
    }
   ],
   "source": [
    "#Visualize predicted classes vs. target classes using confusion matrix\n",
    "from sklearn.metrics import confusion_matrix\n",
    "\n",
    "#Convert labels back to strings\n",
    "y_pred = list(model.predict(x_test))\n",
    "y_pred_str = le.inverse_transform(y_pred)\n",
    "\n",
    "y_test_str = le.inverse_transform(list(y_test))\n",
    "\n",
    "#Set up confusion matrix\n",
    "conf_mat = confusion_matrix(y_test_str, y_pred_str)\n",
    "fig, ax = plt.subplots(figsize = (10, 10))\n",
    "poss_classes = [\"cp\", \"im\", \"pp\", \"imU\", \"om\"]\n",
    "\n",
    "sns.heatmap(conf_mat, annot = True, fmt='d',\n",
    "            xticklabels = poss_classes, yticklabels = poss_classes)\n",
    "\n",
    "plt.ylabel('Actual')\n",
    "plt.xlabel('Predicted')\n",
    "plt.show()"
   ]
  },
  {
   "cell_type": "code",
   "execution_count": null,
   "metadata": {},
   "outputs": [],
   "source": []
  }
 ],
 "metadata": {
  "kernelspec": {
   "display_name": "Python 3",
   "language": "python",
   "name": "python3"
  },
  "language_info": {
   "codemirror_mode": {
    "name": "ipython",
    "version": 3
   },
   "file_extension": ".py",
   "mimetype": "text/x-python",
   "name": "python",
   "nbconvert_exporter": "python",
   "pygments_lexer": "ipython3",
   "version": "3.8.5"
  }
 },
 "nbformat": 4,
 "nbformat_minor": 4
}
