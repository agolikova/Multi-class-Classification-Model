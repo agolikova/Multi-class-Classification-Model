{
 "cells": [
  {
   "cell_type": "markdown",
   "metadata": {},
   "source": [
    "This code uses the random forest classifier identified as having the best performance during model evaluation. The model is trained & tested on the E. coli dataset, and the results of prediction visualized as a confusion matrix."
   ]
  },
  {
   "cell_type": "code",
   "execution_count": 17,
   "metadata": {},
   "outputs": [],
   "source": [
    "import pandas as pd\n",
    "import numpy as np\n",
    "import seaborn as sns\n",
    "import matplotlib.pyplot as plt\n",
    "from collections import Counter"
   ]
  },
  {
   "cell_type": "code",
   "execution_count": 18,
   "metadata": {},
   "outputs": [
    {
     "name": "stdout",
     "output_type": "stream",
     "text": [
      "(327, 8)\n"
     ]
    }
   ],
   "source": [
    "#Import data\n",
    "dataset = pd.read_csv('ecoli.csv', header = None)\n",
    "print(dataset.shape)"
   ]
  },
  {
   "cell_type": "code",
   "execution_count": 19,
   "metadata": {},
   "outputs": [],
   "source": [
    "#Split into features & labels\n",
    "data = dataset.values\n",
    "x, y = data[:, :-1], data[:, -1]"
   ]
  },
  {
   "cell_type": "code",
   "execution_count": 20,
   "metadata": {},
   "outputs": [
    {
     "name": "stdout",
     "output_type": "stream",
     "text": [
      "(327, 7) (327,) Counter({0: 143, 1: 77, 4: 52, 2: 35, 3: 20})\n"
     ]
    }
   ],
   "source": [
    "#Encode target labels\n",
    "from sklearn.preprocessing import LabelEncoder\n",
    "\n",
    "le = LabelEncoder()\n",
    "y = le.fit_transform(y)\n",
    "\n",
    "print(x.shape, y.shape, Counter(y))"
   ]
  },
  {
   "cell_type": "code",
   "execution_count": 21,
   "metadata": {},
   "outputs": [
    {
     "name": "stdout",
     "output_type": "stream",
     "text": [
      "Training features shape: (196, 7)\n",
      "Training labels shape: (196,)\n",
      "Testing features shape: (131, 7)\n",
      "Testing labels shape: (131,)\n"
     ]
    }
   ],
   "source": [
    "#Split data into training & test datasets\n",
    "from sklearn.model_selection import train_test_split\n",
    "\n",
    "x_train, x_test, y_train, y_test = train_test_split(x, y, test_size = 0.4, random_state = 0)\n",
    "\n",
    "print('Training features shape:', x_train.shape)\n",
    "print('Training labels shape:', y_train.shape)\n",
    "print('Testing features shape:', x_test.shape)\n",
    "print('Testing labels shape:', y_test.shape)"
   ]
  },
  {
   "cell_type": "code",
   "execution_count": 22,
   "metadata": {},
   "outputs": [
    {
     "data": {
      "text/plain": [
       "RandomForestClassifier(n_estimators=1000)"
      ]
     },
     "execution_count": 22,
     "metadata": {},
     "output_type": "execute_result"
    }
   ],
   "source": [
    "#Train random forest classifier (identified as having best performance during model evaluation)\n",
    "from sklearn.ensemble import RandomForestClassifier\n",
    "\n",
    "#Define model\n",
    "model = RandomForestClassifier(n_estimators = 1000)\n",
    "\n",
    "#Fit model on entire training set\n",
    "model.fit(x_train, y_train)"
   ]
  },
  {
   "cell_type": "code",
   "execution_count": 23,
   "metadata": {},
   "outputs": [],
   "source": [
    "#Test model on unseen data\n",
    "y_pred = list(model.predict(x_test))\n",
    "\n",
    "#Convert labels back to strings\n",
    "y_pred_str = le.inverse_transform(y_pred)\n",
    "y_test_str = le.inverse_transform(list(y_test))"
   ]
  },
  {
   "cell_type": "code",
   "execution_count": 24,
   "metadata": {},
   "outputs": [
    {
     "data": {
      "image/png": "[encoded data removed]",
      "text/plain": [
       "<Figure size 720x720 with 2 Axes>"
      ]
     },
     "metadata": {
      "needs_background": "light"
     },
     "output_type": "display_data"
    },
    {
     "name": "stdout",
     "output_type": "stream",
     "text": [
      "88.55% of predictions made using the random forest model were correct\n"
     ]
    }
   ],
   "source": [
    "#Visualize results using confusion matrix (predicted classes vs. target classes)\n",
    "from sklearn import metrics\n",
    "\n",
    "#Set up confusion matrix\n",
    "conf_mat = metrics.confusion_matrix(y_test_str, y_pred_str)\n",
    "fig, ax = plt.subplots(figsize = (10, 10))\n",
    "poss_classes = [\"cp\", \"im\", \"pp\", \"imU\", \"om\"]\n",
    "\n",
    "sns.heatmap(conf_mat, annot = True, fmt = 'd',\n",
    "            xticklabels = poss_classes, yticklabels = poss_classes)\n",
    "\n",
    "plt.ylabel('Actual')\n",
    "plt.xlabel('Predicted')\n",
    "plt.show()\n",
    "\n",
    "#Print % predictions that were accurate\n",
    "percent_accuracy = \"{:.2f}\".format(metrics.accuracy_score(y_test, y_pred) * 100)\n",
    "print(percent_accuracy + \"% of predictions made using the random forest model were correct\")"
   ]
  },
  {
   "cell_type": "code",
   "execution_count": null,
   "metadata": {},
   "outputs": [],
   "source": []
  }
 ],
 "metadata": {
  "kernelspec": {
   "display_name": "Python 3",
   "language": "python",
   "name": "python3"
  },
  "language_info": {
   "codemirror_mode": {
    "name": "ipython",
    "version": 3
   },
   "file_extension": ".py",
   "mimetype": "text/x-python",
   "name": "python",
   "nbconvert_exporter": "python",
   "pygments_lexer": "ipython3",
   "version": "3.8.5"
  }
 },
 "nbformat": 4,
 "nbformat_minor": 4
}
