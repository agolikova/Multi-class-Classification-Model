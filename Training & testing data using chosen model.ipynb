{
 "cells": [
  {
   "cell_type": "markdown",
   "metadata": {},
   "source": [
    "This code uses the random forest classifier identified as having the best performance during model evaluation. The model is trained & tested on the E. coli dataset, and the results of prediction visualized as a confusion matrix."
   ]
  },
  {
   "cell_type": "code",
   "execution_count": 1,
   "metadata": {},
   "outputs": [],
   "source": [
    "import pandas as pd\n",
    "import numpy as np\n",
    "import seaborn as sns\n",
    "import matplotlib.pyplot as plt\n",
    "from collections import Counter"
   ]
  },
  {
   "cell_type": "code",
   "execution_count": 2,
   "metadata": {},
   "outputs": [
    {
     "name": "stdout",
     "output_type": "stream",
     "text": [
      "(327, 8)\n"
     ]
    }
   ],
   "source": [
    "#Import data\n",
    "dataset = pd.read_csv('ecoli.csv', header = None)\n",
    "print(dataset.shape)"
   ]
  },
  {
   "cell_type": "code",
   "execution_count": 3,
   "metadata": {},
   "outputs": [],
   "source": [
    "#Split into features & labels\n",
    "data = dataset.values\n",
    "x, y = data[:, :-1], data[:, -1]"
   ]
  },
  {
   "cell_type": "code",
   "execution_count": 4,
   "metadata": {},
   "outputs": [
    {
     "name": "stdout",
     "output_type": "stream",
     "text": [
      "(327, 7) (327,) Counter({0: 143, 1: 77, 4: 52, 2: 35, 3: 20})\n"
     ]
    }
   ],
   "source": [
    "#Encode target labels\n",
    "from sklearn.preprocessing import LabelEncoder\n",
    "\n",
    "le = LabelEncoder()\n",
    "y = le.fit_transform(y)\n",
    "\n",
    "print(x.shape, y.shape, Counter(y))"
   ]
  },
  {
   "cell_type": "code",
   "execution_count": 5,
   "metadata": {},
   "outputs": [
    {
     "name": "stdout",
     "output_type": "stream",
     "text": [
      "Training features shape: (196, 7)\n",
      "Training labels shape: (196,)\n",
      "Testing features shape: (131, 7)\n",
      "Testing labels shape: (131,)\n"
     ]
    }
   ],
   "source": [
    "#Split data into training & test datasets\n",
    "from sklearn.model_selection import train_test_split\n",
    "\n",
    "x_train, x_test, y_train, y_test = train_test_split(x, y, test_size = 0.4, random_state = 0)\n",
    "\n",
    "print('Training features shape:', x_train.shape)\n",
    "print('Training labels shape:', y_train.shape)\n",
    "print('Testing features shape:', x_test.shape)\n",
    "print('Testing labels shape:', y_test.shape)"
   ]
  },
  {
   "cell_type": "code",
   "execution_count": 6,
   "metadata": {
    "collapsed": true
   },
   "outputs": [
    {
     "data": {
      "text/plain": [
       "RandomForestClassifier(n_estimators=1000)"
      ]
     },
     "execution_count": 6,
     "metadata": {},
     "output_type": "execute_result"
    }
   ],
   "source": [
    "#Train random forest classifier (identified as having best performance during model evaluation)\n",
    "from sklearn.ensemble import RandomForestClassifier\n",
    "\n",
    "#Define model\n",
    "model = RandomForestClassifier(n_estimators = 1000)\n",
    "\n",
    "#Fit model on entire training set\n",
    "model.fit(x_train, y_train)"
   ]
  },
  {
   "cell_type": "code",
   "execution_count": 7,
   "metadata": {},
   "outputs": [],
   "source": [
    "#Test model on unseen data\n",
    "y_pred = list(model.predict(x_test))\n",
    "\n",
    "#Convert labels back to strings\n",
    "y_pred_str = le.inverse_transform(y_pred)\n",
    "y_test_str = le.inverse_transform(list(y_test))"
   ]
  },
  {
   "cell_type": "code",
   "execution_count": 8,
   "metadata": {},
   "outputs": [
    {
     "data": {
      "image/png": "iVBORw0KGgoAAAANSUhEUgAAAjYAAAJNCAYAAAAiUz83AAAAOXRFWHRTb2Z0d2FyZQBNYXRwbG90bGliIHZlcnNpb24zLjMuMiwgaHR0cHM6Ly9tYXRwbG90bGliLm9yZy8vihELAAAACXBIWXMAAAsTAAALEwEAmpwYAAAr60lEQVR4nO3de5xVdb3/8fdnAMULIoMXrjYSVnq8FqIYKt4AKcXLEaU0ysucyrz9ztE8ZsdOdrGflal5VNISNQxMTQRMlJRL3kDFkAFDhAODo4hAAqnA7M/5Y9bQBDJ7Zpi115rv9/XssR6z15q91/rsb9s9Hz7rezF3FwAAQAjKsg4AAACgtZDYAACAYJDYAACAYJDYAACAYJDYAACAYJDYAACAYLTPOoBt2bjyTcahp2ynHkdnHQIAoIFNG5ZbKa9Xyr+1HfboU5L3RsUGAAAEg8QGAAAEI7e3ogAAQMoKtVlH0Oqo2AAAgGBQsQEAIFZeyDqCVkfFBgAABIOKDQAAsSpQsQEAAMgtKjYAAETK6WMDAACQX1RsAACIFX1sAAAA8ouKDQAAsaKPDQAAQH6R2AAAgGBwKwoAgFixCCYAAEB+UbEBACBWdB4GAADILyo2AADEign6AAAA8ouKDQAAkWIRTAAAgByjYgMAQKzoYwMAAJBfVGwAAIgVfWwAAADyi4oNAACxYq0oAACA/KJiAwBArOhjAwAAkF8kNgAAIBjcigIAIFZM0AcAAJBfVGwAAIgVnYcBAADyi4oNAACxoo8NAABAflGxAQAgUu4sqQAAAJBbVGwAAIgVo6IAAADyi4oNAACxYlQUAABAflGxAQAgVvSxAQAAyC8qNgAAxKrAPDYAAAC5RWIDAACCQWLTQoPPHKXTz/uGzhx1sUacf6kkacHCN/Xlyit0+nnf0MVXXad169dnHGVYhgwepHmvTdeCqpm66sqLsw4nSLRx+mjj9NHGzeCF0m0lYu5esos1x8aVb+YzsMTgM0dp3N23qMvunTcfO/uCS/Uf37pQhx92sB6e+ISWv/WOLqn8SoZRNm6nHkdnHUKTlZWVaf68GRo6bKSqq2v0/HOTde5539T8+QuzDi0YtHH6aOP0tfU23rRhuZXyeh+++GDJ/tZ27H9WSd5b6hUbM9vBzA42s4PMbIe0r5elJUur1e/QgyRJAw7/rJ6cNjPjiMLR//DDtGjREi1evFQbN27U+PGP6tRThmQdVlBo4/TRxumjjZupUCjdViKpJjZm9gVJiyTdIumXkt4ws5PTvGapmJkqr/iORpx/iR58dLIkqW+fCj0983lJ0pSnZ+jtd1ZmGWJQevTspmXVb23er15eox49umUYUXho4/TRxumjjZH2cO+fSTrO3d+QJDP7pKRJkh5P+bqpu+/2n2mvPbvqvdVrdNHl12jfT/TW9ddcoR/fdLvu+M1YDRp4pDp0YDR9azHbuoKZ19uobRVtnD7aOH20cTMxQV+zrahPahJvSlqxrSebWaWZzTaz2Xfd+0DKoW2fvfbsKknq2mV3nXDMUZpb9br6fKK3fvWLH2n8r2/VsBOPVe+e3TOOMhzLq2vUu1ePzfu9enZXTc07GUYUHto4fbRx+mhjpJ3YzDOzyWb2VTMbJekxSbPM7AwzO2PLJ7v7aHfv5+79LvzKyJRDa7m/f/Ch1q//++bHz774svbrU6H3Vq+RJBUKBd055ncacdqwDKMMy6zZc9S3776qqOitDh06aMSI4Xps4pSswwoKbZw+2jh9tHEzBdjHJu17JR0lvSPp2GT/XUldJJ0iySU9nPL1U/HeqtW67JrrJUm1m2o1bPAgDTyyn+4b/wf97uGJkqQTjz1Kp39hcJZhBqW2tlaXXX6tJk8aq3ZlZbpnzDhVVf0167CCQhunjzZOH22MVId7m9kYSZe5+5pkv4ukn7n7+cVem/fh3iFoS8O9ASAGJR/uPeO+0g33Pvq8IIZ7H1yf1EiSu6+WdFjK1wQAAJFK+1ZUmZl1SRIamVl5Ca4JAACawD28RTBLMdz7WTP7ver61IyQ9MOUrwkAACKVamLj7vea2WxJx0sySWe4e1Wa1wQAAE1UwtFKpZL6baEkkSGZAQAAqaO/CwAAsWLmYQAAgPwisQEAAMHgVhQAALEKsPMwFRsAABAMKjYAAMSKzsMAAAD5RcUGAIBY0ccGAAAgv6jYAAAQK/rYAAAA5BcVGwAAYkUfGwAAgPyiYgMAQKyo2AAAAOQXFRsAAGKVo1FRZrZE0lpJtZI2uXs/MyuXNE5ShaQlkka4++rGzkPFBgAA5MVx7n6ou/dL9q+WNNXd95M0NdlvFBUbAABilf8+NsMlDUoej5H0jKRvN/YCKjYAACAPXNIUM3vJzCqTY3u7e40kJT/3KnYSKjYAACB1SbJS2eDQaHcf3WD/8+7+lpntJelJM1vQkuuQ2AAAEKsSdh5OkpjRjfz+reTnCjN7RFJ/Se+YWXd3rzGz7pJWFLsOt6IAAECmzGwXM+tU/1jSYEmvSZogaVTytFGSHi12Lio2AADEKj+dh/eW9IiZSXW5yVh3/6OZzZI03swukLRU0lnFTkRiAwAAMuXub0o65GOOvyfphOaci8QGAIBY5WiCvtZCHxsAABAMKjYAAMQqP31sWg0VGwAAEAwqNgAAxIqKDQAAQH5RsQEAIFbuWUfQ6qjYAACAYFCxAQAgVvSxAQAAyC8qNgAAxIqKDQAAQH5RsQEAIFasFQUAAJBfJDYAACAY3IoCACBWdB4GAADILyo2AADEiiUVAAAA8ouKDQAAsQqwj01uE5tOvQZlHULwHik/JusQgnfpxqqsQ4jCsrUrsw4BQE7kNrEBAAApC7BiQx8bAAAQDCo2AADEiiUVAAAA8ouKDQAAkfIC89gAAADkFhUbAABixagoAACA/KJiAwBArBgVBQAAkF8kNgAAIBjcigIAIFYM9wYAAMgvKjYAAMSK4d4AAAD5RcUGAIBYUbEBAADILyo2AADEyhkVBQAAkFtUbAAAiBV9bAAAAPKLig0AALFi5mEAAID8omIDAECsnD42AAAAuUXFBgCAWNHHBgAAIL9IbAAAQDC4FQUAQKScCfoAAADyi4oNAACxovMwAABAflGxAQAgVkzQBwAAkF9UbAAAiBV9bAAAAPKLig0AALFiHhsAAID8omIDAECs6GMDAACQX1RsAACIFfPYAAAA5BcVGwAAYkUfGwAAgPwisQEAAMHgVhQAAJFyJugDAADILyo2AADEis7DAAAA+UVi0wruvPNGLV36sl566cmsQwlGxx7lGvDQtRo0/acaNO1G7Xvh0M2/q7hgiI6b+TMNmnaj9v/ulzKMMjwzXpmsx2f8XpOeGadHp47NOpwgDRk8SPNem64FVTN11ZUXZx1OkGjjZih46bYS4VZUK7jvvgd1++1jdPfdN2UdSjB8U0FV37tff5u7RO126ahjpvxI706fqx337KxuQz6nacd/W4UNm7TDHrtlHWpwvjT8Qq1etSbrMIJUVlamW27+oYYOG6nq6ho9/9xkPTZxiubPX5h1aMGgjUHFphXMnPmiVq9ek3UYQfloxRr9be4SSVLt+g+1buFydexWropRJ+mNWyeosGGTJGnDyvczjBJonv6HH6ZFi5Zo8eKl2rhxo8aPf1SnnjIk67CCQhs3kxdKt5UIiQ1yb6fee6jzgRVa8/Ib2qVPN5Uf+RkNnHy9jnrkv9T50D5ZhxcUd+ne39+hCVMf0MivnJl1OMHp0bObllW/tXm/enmNevTolmFE4aGNkeqtKDPbV9IlkioaXsvdT03zughHu513VL+7rtBr/3WvNq37QNa+nTp03kUzh31Xux/2SfUbfZmm9r8s6zCD8a/DRmnF2++q6x7luu+hO7Ro4WK9+NzLWYcVDDPb6ph7eKNSskQbN1OAo6LS7mPzB0l3S3pMUtE6lJlVSqqUpPbtu6hdu11TDQ75Zu3bqd/dV2j5w3/W25NnSZI+fGuV3p78oiRpzSuL5AXXDl07acN7a7MMNRgr3n5XkvTeylV6YtKfdMhnDySxaUXLq2vUu1ePzfu9enZXTc07GUYUHtoYad+K+tDdb3H3p919Wv22rSe7+2h37+fu/UhqcMhNlVq38C29eefkzcfe/uNs7THwXyRJu/TpprIO7UlqWslOO++kXXbdefPjo48boNfnv5FxVGGZNXuO+vbdVxUVvdWhQweNGDFcj02cknVYQaGNm8cLXrKtVNKu2NxsZtdJmiLpo/qD7h7UPwHvvfdWHX30AO2xRxe98cYL+sEPfq577hmXdVhtWnn/T6v3Wcfo/aqlOuapH0uSFvx4nJY+8LQOvenrOvaZ/y/fsEmvXHp7xpGGY489y3XnvXUj+9q1b68JD03W9D89m3FUYamtrdVll1+ryZPGql1Zme4ZM05VVX/NOqyg0MawNO89mtmPJZ0naZH+cSvK3f34Yq/t2HGf8G785cyDu38+6xCCd+nGqqxDiMKytSuzDgFoFZs2LN+6k1CK1l76xZL9re10y8SSvLe0KzanS+rj7htSvg4AAEDqic2rknaXtCLl6wAAgOYKcHXvtBObvSUtMLNZ+uc+Ngz3BgAArS7txOa6lM8PAACwWaqJTWNDuwEAQMZyNkGfmbWTNFvScnf/opmVSxqnuol+l0ga4e6rGztHKvPYmNnM5OdaM3u/wbbWzFjcBwAAfJzLJM1vsH+1pKnuvp+kqcl+o1JJbNx9YPKzk7vv1mDr5O4sxwwAQB4UvHRbEWbWS9IXJN3V4PBwSWOSx2MknVbsPCyCCQAA8uAXkq7SPy/BtLe710hS8nOvYichsQEAIFLuXrLNzCrNbHaDrbI+DjP7oqQV7v7S9r6ntEdFAQAAyN1HSxq9jV9/XtKpZjZMUkdJu5nZ/ZLeMbPu7l5jZt3VhHnxqNgAABCrnPSxcff/dPde7l4h6RxJf3L3cyVNkDQqedooSY8We0skNgAAIK9ukHSSmS2UdFKy3yhuRQEAEKuczWMjSe7+jKRnksfvSTqhOa+nYgMAAIJBxQYAgEh5Dis224uKDQAACAYVGwAAYkXFBgAAIL+o2AAAEKtC8ae0NVRsAABAMEhsAABAMLgVBQBApBjuDQAAkGNUbAAAiBUVGwAAgPyiYgMAQKwY7g0AAJBfVGwAAIgUo6IAAAByjIoNAACxoo8NAABAflGxAQAgUvSxAQAAyDEqNgAAxIo+NgAAAPlFxQYAgEg5FRsAAID8IrEBAADB4FYUAACx4lYUAABAflGxAQAgUnQeBgAAyDEqNgAAxIqKDQAAQH5RsQEAIFL0sQEAAMgxKjYAAESKig0AAECOUbEBACBSVGwAAAByLLcVm02F2qxDCN53tCTrEIJXsdNeWYcQhWVrV2YdAtA2uWUdQaujYgMAAIKR24oNAABIF31sAAAAcozEBgAABINbUQAARMoLdB4GAADILSo2AABEis7DAAAAOUbFBgCASDkT9AEAAOQXFRsAACJFHxsAAIAco2IDAECkmMcGAAAgx6jYAAAQKfesI2h9VGwAAEAwqNgAABAp+tgAAADkGBUbAAAiRcUGAAAgx0hsAABAMLgVBQBApBjuDQAAkGNUbAAAiBSdhwEAAHKMig0AAJFyp2IDAACQW1RsAACIlBeyjqD1UbEBAADBoGIDAECkCvSxAQAAyC8qNgAARIpRUQAAADlGxQYAgEgx8zAAAECOUbEBACBSrO4NAACQYyQ2AAAgGNyKAgAgUnQeBgAAyDEqNgAARCrEJRW2mdiY2a2Sttlf2t0vTSUiAACAFmqsYjO7ZFEAAICSC3FJhW0mNu4+ppSBAAAAbK+ifWzMbE9J35Z0gKSO9cfd/fgU4wIAACmLdYK+30qaL2lfSf8taYmkWSnGBAAAImJmHc3sRTN71czmmdl/J8fLzexJM1uY/OxS7FxNSWy6uvvdkja6+zR3P1/Skdv5HgAAQMYKbiXbivhI0vHufoikQyUNNbMjJV0taaq77ydparLfqKYkNhuTnzVm9gUzO0xSrya8DgAAoCivsy7Z7ZBsLmm4pPo+v2MknVbsXE2Zx+YHZtZZ0r9LulXSbpKuaGbMAAAgZ/I0KsrM2kl6SVJfSbe5+wtmtre710iSu9eY2V7FzlO0YuPuE939b+7+mrsf5+6fc/cJ2/0OAjJk8CDNe226FlTN1FVXXpx1OEGq+OQ+Gv/UmM3bswuf0rkXnZ11WG3eVT/9dz08Z7x+/dTozcc67d5JN469QffNuEc3jr1Bu3beNcMIw8P3Rfpo43wys0ozm91gq2z4e3evdfdDVXdXqL+ZHdii63iRLtFm9ht9zER9SV+b1LTfoWeb6KtdVlam+fNmaOiwkaqurtHzz03Wued9U/PnL8w6tKIOKN8n6xBapKysTE/NmaAvD7tQNdVvZx1Oo7q2z3dScPARB+mD9R/oP39xlc4/se475t++c6HeX7NWD9w2TiMvPludOnfS6B/dlXGkjZuxoirrEJqkLX9ftBVtvY03bVhe0hLKy72Hl+xv7WeXPdrk92Zm10laL+kiSYOSak13Sc+4+6cbe21T+thMlDQp2aaq7lbUukZfEZH+hx+mRYuWaPHipdq4caPGj39Up54yJOuwgnbE0f20bMny3Cc1bcFfXpir99es/adjRw0+Sk88+KQk6YkHn9TnhxyVRWhB4vsifbRx22Rme5rZ7snjnSSdKGmBpAmSRiVPGyXp0WLnKtrHxt0f2uLiD0h6qomB9pF0s6QBkgqSnpN0hbu/2ZTXtwU9enbTsuq3Nu9XL69R/8MPyzCi8A097SQ9/ocnsw4jWOV7dNGqFaskSatWrFKXrrtnG1BA+L5IH23cPDlaK6q7pDFJP5sySePdfaKZPSdpvJldIGmppLOKnagli2DuJ6mp9zDGSrpN0unJ/jmSHpB0RAuum0tmW38oit3eQ8u179BegwYP1M0//J+sQwGaje+L9NHGbZO7/0XSVhmou78n6YTmnKspMw+v1T/3sXlbdTMRN4W5+30N9u83s281cq1KSZWSZO06q6xslyZeJjvLq2vUu1ePzfu9enZXTc07GUYUtoHHD9D8ua9r1crVWYcSrFUrV6t8r3KtWrFK5XuVa/V7a7IOKRh8X6SPNm6ePI2Kai1NGRXVyd13a7B9asvbU4142sz+08wqzOwTZnaVpEnJTILlH3Ot0e7ez937tYWkRpJmzZ6jvn33VUVFb3Xo0EEjRgzXYxOnZB1WsE4+ndtQaXv2yec05KyTJElDzjpJz055NuOIwsH3RfpoYzSlYjPV3U8odmwb6sfjXlT/0uTn+aqrAvVpaqB5VVtbq8suv1aTJ41Vu7Iy3TNmnKqq/pp1WEHquNOOGnBMf11/5U+yDiUY1/7yGh064GB1Lu+s8bPG6p6f3asHfvk7XXfHdzXsnJO1YvkKfe/r12cdZjD4vkgfbYxtDvc2s46Sdpb0tKRB+kdSspukx919/6Inr+vZ/E1JA1WXyMyQdLu7f1jstW1luHdb1laHe7cleR/uHYq2MtwbKKbUw71f6HFGyf7WHvHWwyV5b41VbP5N0uWSeqhuJsD6gN5XXYfgphiTPP+WZH+kpHsljWhuoAAAAMVsM7Fx95sl3Wxml7j7rS08/6eTBa3qPW1mr7bwXAAAoBWFeGukKRP0FeonzZEkM+tiZt9s4vlfSVbnrH/tEZL+3LwQAQAAmqYpic1F7r6mfsfdV+sfnYGLOULSs2a2xMyWqG6CvmPNbK6Z/aW5wQIAgNZTcCvZVipNmaCvzMzMk17GyayAOzTx/ENbHBkAAEAzNSWxeUJ10xnfobrbcV+X9HhTTu7u/7sdsQEAgBSFOEFfUxKbb6tuNuBvqG5k1CuqW9MBAAAgV5qyCGbBzJ5X3WR6Z0sql9TUmYcBAEBOFbIOIAXbTGzM7FOqW7RypKT3JI2TJHc/rjShAQAANE9jFZsFqpsp+BR3f0OSzOyKkkQFAABS5wqvj01jw73PVN1K3k+b2a/M7AQpwBYAAADBaGzm4UckPWJmu0g6TdIVkvY2s9slPeLuLJcKAEAbVghw6uGiE/S5+3p3/627f1FSL0lzJF2ddmAAAADN1ZTh3pu5+ypJdyYbAABowwoB9jBpypIKAAAAbQKJDQAACEazbkUBAIBwxDbcGwAAoE2hYgMAQKRCXFKBig0AAAgGFRsAACJFHxsAAIAco2IDAECk6GMDAACQY1RsAACIFBUbAACAHKNiAwBApBgVBQAAkGNUbAAAiFQhvIINFRsAABAOKjYAAESqQB8bAACA/CKxAQAAweBWFAAAkfKsA0gBFRsAABAMKjYAAESKJRUAAAByjIoNAACRKhjDvQEAAHKLig0AAJFiVBQAAECOUbEBACBSjIoCAADIMSo2AABEqhDeoCgqNgAAIBxUbAAAiFRB4ZVsqNgAAIBgULEBACBSzGMDAACQYyQ2AAAgGNyKiljVqqVZhwC0igPK98k6hODxfREmhnsDAADkGBUbAAAixZIKAAAAOUbFBgCASDHcGwAAIMeo2AAAEClGRQEAAOQYFRsAACLFqCgAAIAco2IDAECkqNgAAADkGBUbAAAi5YyKAgAAyC8qNgAARIo+NgAAADlGYgMAAILBrSgAACLFrSgAAIAco2IDAECkPOsAUkDFBgAABIOKDQAAkSowQR8AAEB+UbEBACBSjIoCAADIMSo2AABEiooNAABAjlGxAQAgUsxjAwAAkGNUbAAAiBTz2AAAALQyM+ttZk+b2Xwzm2dmlyXHy83sSTNbmPzsUuxcJDYAAESqUMKtiE2S/t3d95d0pKSLzewASVdLmuru+0mamuw3isQGAABkyt1r3P3l5PFaSfMl9ZQ0XNKY5GljJJ1W7FwkNgAAIDfMrELSYZJekLS3u9dIdcmPpL2KvZ7EBgCASHkJNzOrNLPZDbbKLeMxs10lPSTpcnd/vyXviVFRAAAgde4+WtLobf3ezDqoLqn5rbs/nBx+x8y6u3uNmXWXtKLYdajYAAAQqYK8ZFtjzMwk3S1pvrv/vMGvJkgalTweJenRYu+Jig0AAMja5yWdJ2mumc1Jjl0j6QZJ483sAklLJZ1V7EQkNgAARCovi2C6+0xJ25ou8ITmnItbUQAAIBhUbAAAiBSLYAIAAOQYFRsAACKVlz42rYmKDQAACAYVGwAAIlXY1jikNoyKDQAACAYVGwAAIlVsRuC2iIoNAAAIBhUbAAAiFV69hooNAAAICIlNKxgyeJDmvTZdC6pm6qorL846nGDRzumjjdNV8cl9NP6pMZu3Zxc+pXMvOjvrsILD5zhu3IraTmVlZbrl5h9q6LCRqq6u0fPPTdZjE6do/vyFWYcWFNo5fbRx+pYsWqoRJ46SVNfeT82ZoKmPT8s4qrDwOW4eJujDVvoffpgWLVqixYuXauPGjRo//lGdesqQrMMKDu2cPtq4tI44up+WLVmumuq3sw4lKHyOQWKznXr07KZl1W9t3q9eXqMePbplGFGYaOf00calNfS0k/T4H57MOozg8DlunoK8ZFuppJLYmNlaM3u/wfY3M1tkZneZWdc0rpkVs62nbXQPsZ95tmjn9NHGpdO+Q3sNGjxQUyZMzTqU4PA5RiqJjbt3cvfdGmydJfWTNE/SHdt6nZlVmtlsM5tdKKxPI7RWt7y6Rr179di836tnd9XUvJNhRGGindNHG5fOwOMHaP7c17Vq5eqsQwkOn+Pm8RJupVKyW1Huvtrdb5L0yUaeM9rd+7l7v7KyXUoV2naZNXuO+vbdVxUVvdWhQweNGDFcj02cknVYwaGd00cbl87Jp3MbKi18jlHSUVFm1qHU10xbbW2tLrv8Wk2eNFbtysp0z5hxqqr6a9ZhBYd2Th9tXBodd9pRA47pr+uv/EnWoQSJz3HzhDgqytK492hmZ3zM4S6SzpY0092/X+wc7XfoyU1RAE1yQPk+WYcQvKpVS7MOIQqbNiwv6Xrb/1ExsmR/a3+65IGSvLe0qienbLHvkt6TdLO7T0rpmgAAoBlCXAQzlcTG3b+WxnkBAAAak2p/FzPbV9IlkioaXsvdT03zugAAoLjw6jXpd+T9g6S7JT2mMPsoAQCAHEk7sfnQ3W9J+RoAAKAFQqw4pJ3Y3Gxm10maIumj+oPu/nLK1wUAABFKO7E5SNJ5ko7XPxJDT/YBAECGPMBeNmknNqdL6uPuG1K+DgAAQOpLKrwqafeUrwEAACAp/YrN3pIWmNks/XMfG4Z7AwCQMToPN991KZ8fAABgs1QTG3eflub5AQBAy7GkQhOZ2Ux3H2hma/XPExuaJHf33dK4LgAAiFtaa0UNTH52SuP8AABg+4VXr0l/VBQAAEDJpN15GAAA5FSIfWyo2AAAgGBQsQEAIFIhzmNDxQYAAASDig0AAJEKcRFMKjYAACAYVGwAAIgUfWwAAAByjIoNAACRoo8NAABAjpHYAACAYHArCgCASNF5GAAAIMeo2AAAEKmC03kYAAAgt6jYAAAQqfDqNVRsAABAQKjYAAAQqUKANRsqNgAAIBhUbAAAiBRLKgAAAOQYFRsAACLFzMMAAAA5RsUGAIBIMSoKAAAgx6jYAAAQKUZFAQAA5BiJDQAACAa3ogAAiBTDvQEAAHKMig0AAJFyp/MwAABAblGxAQAgUkzQBwAAkGNUbAAAiFSIo6Jym9js3GHHrEMI3t83fpR1CECrqFq1NOsQgndO9yOyDgFoktwmNgAAIF0sqQAAAJBjVGwAAIgUo6IAAAByjIoNAACRYuZhAACAHKNiAwBApEKcx4aKDQAACAYVGwAAIsU8NgAAADlGYgMAAILBrSgAACLFBH0AAAApMLNfm9kKM3utwbFyM3vSzBYmP7sUOw+JDQAAkXL3km1NcI+koVscu1rSVHffT9LUZL9RJDYAACBz7j5d0qotDg+XNCZ5PEbSacXOQx8bAAAi1Qb62Ozt7jWS5O41ZrZXsRdQsQEAAKkzs0ozm91gq0zjOlRsAACIVCkn6HP30ZJGN/Nl75hZ96Ra013SimIvoGIDAADyaoKkUcnjUZIeLfYCKjYAAESq0LTRSiVhZg9IGiRpDzOrlnSdpBskjTezCyQtlXRWsfOQ2AAAgMy5+8ht/OqE5pyHxAYAgEjlp17TeuhjAwAAgkHFBgCASLWBeWyajYoNAAAIBhUbAAAiRcUGAAAgx0hsAABAMLgVBQBApDxHE/S1Fio2AAAgGFRsAACIFJ2HAQAAcoyKDQAAkXIqNgAAAPlFxQYAgEgxKgoAACDHqNgAABApRkUBAADkGBUbAAAiRR8bAACAHKNiAwBApOhjAwAAkGNUbAAAiBQzDwMAAOQYiQ0AAAgGt6IAAIhUgeHeAAAA+UXFBgCASNF5GFvp2bO7Jk7+rWa9NEUvzPqjvvHNr2YdUrCGDB6kea9N14KqmbrqyouzDidItHH6aON0XHTjxbrtpd/ox1N+sdXvhlUO1/3/+7B27dKp9IGh5EhsttOm2k36zjU/0uGfG6wTjjtTF1Wep09/pm/WYQWnrKxMt9z8Q33xlHN10CHH6eyzT9P++++XdVhBoY3TRxunZ/qDT+vGUddvdby8e1cdOPBgrax+N4Oo8q/gXrKtVEhsttM7b7+rV+fMkyStW7der7/+hnr06JZxVOHpf/hhWrRoiRYvXqqNGzdq/PhHdeopQ7IOKyi0cfpo4/S8/mKV1q1Zu9Xxc//rfP3ux/cFuSYSPh6JTSvaZ5+eOviQf9HsWXOyDiU4PXp207LqtzbvVy+vIYFsZbRx+mjj0vrsiYdr9dvvaen8JVmHkltewv+VSqqdh82sn6TvSPpEci2T5O5+cJrXzcIuu+ys+8b+j66+6nqtXbsu63CCY2ZbHeNfYK2LNk4fbVw6O3TcQad+60z95LzvZx0KSiztUVG/lXSlpLmSCsWebGaVkiolaccdumqH9rulG10rad++ve4f+z8aP26CHpvwRNbhBGl5dY169+qxeb9Xz+6qqXknw4jCQxunjzYunb0+0U179t5bP3r855Lq+tr8YNJPdd3wb+tv767JNrgcCXEem7QTm3fdfUJTn+zuoyWNlqTddunTZlr7tttv0OuvL9Jtt96ddSjBmjV7jvr23VcVFb21fPnbGjFiuM77CiNKWhNtnD7auHSqX1+qiz/3tc37N828Q9895UqtW711PxyEJe3E5jozu0vSVEkf1R9094dTvm7JHDmgn0Z+6Qy99toCzXxuoiTp+9/7qaY88Uy2gQWmtrZWl11+rSZPGqt2ZWW6Z8w4VVX9NeuwgkIbp482Ts/Ft1yh/QccqF27dNItz/9KD930O00bNzXrsHIvxHlsLM37u2Z2v6TPSJqnf9yKcnc/v9hr21LFpq36+8aPij8JACSd0/2IrEOIwv3/+/DWHbFStN+enyvZ39qF775UkveWdsXmEHc/KOVrAACAFgixj03aw72fN7MDUr4GAACApPQrNgMlfdXM3lRdH5tgh3sDANDWhNjHJu3EZqikLpKOTvanS1qT8jUBAECk0r4VdZqk+yTtIWnP5PGpKV8TAABEKu2KzQWSjnT39ZJkZj+R9JykW1O+LgAAKMK96Ny5bU7aFRuTVNtgvzY5BgAA0OrSrtj8RtILZvZIsn+aJKbnBQAgBwp0Hm4ed/+5mT2jutFRJulr7v5KmtcEAADxSrtiI3d/WdLLaV8HAAA0T4iry6fdxwYAAKBkUq/YAACAfAqxjw0VGwAAEAwqNgAARIo+NgAAADlGxQYAgEgVqNgAAADkFxUbAAAi5YyKAgAAyC8qNgAARIpRUQAAADlGYgMAAILBrSgAACLFkgoAAAA5RsUGAIBI0XkYAAAgx6jYAAAQKZZUAAAAyDEqNgAARIo+NgAAADlGxQYAgEgxjw0AAECOUbEBACBS9LEBAADIMSo2AABEinlsAAAAcoyKDQAAkXJGRQEAAOQXiQ0AAAgGt6IAAIgUnYcBAAByjIoNAACRYoI+AACAHKNiAwBApBjuDQAAkGNUbAAAiBR9bAAAAHKMxAYAgEi5e8m2YsxsqJm9bmZvmNnVLX1PJDYAACBTZtZO0m2STpZ0gKSRZnZAS85FYgMAQKS8hFsR/SW94e5vuvsGSb+TNLwl74nEBgAAZK2npGUN9quTY82W21FR769/07KOobnMrNLdR2cdR8ho4/TRxqVBO6ePNi5u04blJftba2aVkiobHBrd4P+fj4ujRUO2qNi0rsriT8F2oo3TRxuXBu2cPto4R9x9tLv3a7A1TDqrJfVusN9L0lstuQ6JDQAAyNosSfuZ2b5mtoOkcyRNaMmJcnsrCgAAxMHdN5nZtyQ9IamdpF+7+7yWnIvEpnVxLzd9tHH6aOPSoJ3TRxu3Ie4+WdLk7T2PhTidMgAAiBN9bAAAQDBIbJBbZvZs1jEALdHcz66Z3WNm/7rFsXWtGxUQBxIb5Ja7H5V1DEBL8NkFskNi00Jm9hUz+4uZvWpm9yX/4rrDzGaY2V/N7ItZx9jW1f+L1cwGmdk0MxuftO0NZvZlM3vRzOaa2SezjrWtMrMKM1tgZmOSz/PvzWxnM1tiZj9J2vhFM+ubdaxtCZ/d0jKz/2dmryXb5Q0+13clx35rZiea2Z/NbKGZ9c86ZqSHxKYFzOxfJH1H0vHufoiky5JfVUg6VtIXJN1hZh2ziTBI9e18kKTzJH3K3ftLukvSJVkGFoBPq24G0IMlvS/pm8nx95M2/qWkX2QUWwj47KbIzD4n6WuSjpB0pKSLJHWR1FfSzZIOlvQZSV+SNFDSf0i6JpNgURIkNi1zvKTfu/tKSXL3Vcnx8e5ecPeFkt5U3X9MaB2z3L3G3T+StEjSlOT4XNUllGi5Ze7+5+Tx/ar78pekBxr8HFDyqMLRlM/uxw1PZchq0wyU9Ii7r3f3dZIelnS0pMXuPtfdC5LmSZrqdcOA+c4IHIlNy5ia9kXEF1Pr+ajB40KD/YKYj2l7betz6408B03XlM/ue6qrMkiSzKxc0sqSRNf2bWutI74zIkVi0zJTJY0ws67S5i8hSTrLzMqS++Z9JL2eVYBAM+xjZvUVmZGSZiaPz27w87mSRxWXZySdnUwlL0lflfR0ZtG0LdMlnZb0DdtF0umSZmQcEzJE1toC7j7PzH4oaZqZ1Up6JfnV65KmSdpb0tfd/cOsYgSaYb6kUWZ2p6SFkm5XXd+PHc3sBdX9A2hkhvEFz90nJn1FXkq+UxZJ+nrGYbUJ7v6ymd0j6cXk0F2SVmcXEbLGzMOtJPkPa6K7/z7rWICmMrMK1X1uD9zi+BJJ/er7kQFAW8GtKAAAEAwqNgAAIBhUbAAAQDBIbAAAQDBIbAAAQDBIbIA2ysxqzWxOshbOg2a283aca/Pq0sn6Ogc08txBZtbsRR6T9af2aGmMANAUJDZA2/WBux+aDNXeoC3mPTGzdi05qbtf6O5VjTxlkCRWrwaQSyQ2QBhmSOqbVFOeNrOxkuaaWTszu9HMZiWrd/+bJFmdX5pZlZlNkrRX/YnM7Bkz65c8HmpmLyer2E9N5r35uqQrkmrR0Wa2p5k9lFxjlpl9PnltVzObYmavJJP/bWvqewBoNcw8DLRxZtZe0smS/pgc6i/pQHdfbGaVkv7m7oeb2Y6S/mxmUyQdprpVvQ9S3UzZVZJ+vcV595T0K0nHJOcqd/dVZnaHpHXu/tPkeWMl3eTuM81sH0lPSNpf0nWSZrr7983sC5IqU20IABCJDdCW7WRmc5LHMyTdrbpbRC+6++Lk+GBJB9f3n5HUWdJ+ko6R9IC710p6y8z+9DHnP1LS9PpzNVjFfksnSjrAbHNBZjcz65Rc44zktZPMjGnuAaSOxAZouz5w90MbHkiSi/UND0m6xN2f2OJ5w1R8xe5trWK/pTJJA9z9g4+JhRlAAZQUfWyAsD0h6Rtm1kGSzOxTyQrI0yWdk/TB6S7puI957XOSjjWzfZPX1q9iv1ZSpwbPmyLpW/U7ZnZo8nC6pC8nx06W1KW13hQAbAuJDRC2u1TXf+ZlM3tN0p2qq9Q+orqVvOeqbjXvaVu+0N3fVV2/mIfN7FVJ45JfPSbp9PrOw5IuldQv6ZxcpX+MzvpvSceY2cuquyW2NKX3CACbsVYUAAAIBhUbAAAQDBIbAAAQDBIbAAAQDBIbAAAQDBIbAAAQDBIbAAAQDBIbAAAQDBIbAAAQjP8D0mSNN8PTtk4AAAAASUVORK5CYII=\n",
      "text/plain": [
       "<Figure size 720x720 with 2 Axes>"
      ]
     },
     "metadata": {
      "needs_background": "light"
     },
     "output_type": "display_data"
    },
    {
     "name": "stdout",
     "output_type": "stream",
     "text": [
      "88.55% of predictions made using the random forest model were correct\n"
     ]
    }
   ],
   "source": [
    "#Visualize results using confusion matrix (predicted classes vs. target classes)\n",
    "from sklearn import metrics\n",
    "\n",
    "#Set up confusion matrix\n",
    "conf_mat = metrics.confusion_matrix(y_test_str, y_pred_str)\n",
    "fig, ax = plt.subplots(figsize = (10, 10))\n",
    "poss_classes = [\"cp\", \"im\", \"pp\", \"imU\", \"om\"]\n",
    "\n",
    "sns.heatmap(conf_mat, annot = True, fmt = 'd',\n",
    "            xticklabels = poss_classes, yticklabels = poss_classes)\n",
    "\n",
    "plt.ylabel('Actual')\n",
    "plt.xlabel('Predicted')\n",
    "plt.show()\n",
    "\n",
    "#Print % predictions that were accurate\n",
    "percent_accuracy = "{:.2f}".format(metrics.accuracy_score(y_test, y_pred) * 100)\n",
    "print(percent_accuracy + \"% of predictions made using the random forest model were correct\")"
   ]
  },
  {
   "cell_type": "code",
   "execution_count": null,
   "metadata": {},
   "outputs": [],
   "source": []
  }
 ],
 "metadata": {
  "kernelspec": {
   "display_name": "Python 3",
   "language": "python",
   "name": "python3"
  },
  "language_info": {
   "codemirror_mode": {
    "name": "ipython",
    "version": 3
   },
   "file_extension": ".py",
   "mimetype": "text/x-python",
   "name": "python",
   "nbconvert_exporter": "python",
   "pygments_lexer": "ipython3",
   "version": "3.8.5"
  }
 },
 "nbformat": 4,
 "nbformat_minor": 4
}
